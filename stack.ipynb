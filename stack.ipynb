{
 "cells": [
  {
   "cell_type": "markdown",
   "metadata": {},
   "source": [
    "Create a command-line application\n",
    "Write a simple implementation of a stack\n",
    "  push, pop, peek"
   ]
  },
  {
   "cell_type": "code",
   "execution_count": 6,
   "metadata": {},
   "outputs": [],
   "source": [
    "class Stack:\n",
    "    \n",
    "    def __init__(self):\n",
    "        self.stack = []\n",
    "    \n",
    "    \n",
    "    def push(self, element):\n",
    "        self.stack = [element] + self.stack\n",
    "    \n",
    "    \n",
    "    def pop(self):\n",
    "        element = self.stack[0]\n",
    "        self.stack = self.stack[1:]\n",
    "        return element\n",
    "    \n",
    "    \n",
    "    def peek(self): \n",
    "        if len(self.stack) == 0:\n",
    "            return []\n",
    "        else:\n",
    "            return self.stack[0]\n",
    "    \n",
    "    \n",
    "\n"
   ]
  },
  {
   "cell_type": "code",
   "execution_count": 7,
   "metadata": {},
   "outputs": [
    {
     "data": {
      "text/plain": [
       "1"
      ]
     },
     "execution_count": 7,
     "metadata": {},
     "output_type": "execute_result"
    }
   ],
   "source": [
    "stack1 = Stack()\n",
    "\n",
    "stack1.push(1)\n",
    "stack1.peek()\n"
   ]
  },
  {
   "cell_type": "code",
   "execution_count": 8,
   "metadata": {},
   "outputs": [
    {
     "data": {
      "text/plain": [
       "1"
      ]
     },
     "execution_count": 8,
     "metadata": {},
     "output_type": "execute_result"
    }
   ],
   "source": [
    "stack1.pop()"
   ]
  },
  {
   "cell_type": "code",
   "execution_count": 9,
   "metadata": {},
   "outputs": [
    {
     "data": {
      "text/plain": [
       "[]"
      ]
     },
     "execution_count": 9,
     "metadata": {},
     "output_type": "execute_result"
    }
   ],
   "source": [
    "stack1.peek()"
   ]
  },
  {
   "cell_type": "code",
   "execution_count": 10,
   "metadata": {},
   "outputs": [
    {
     "data": {
      "text/plain": [
       "2"
      ]
     },
     "execution_count": 10,
     "metadata": {},
     "output_type": "execute_result"
    }
   ],
   "source": [
    "stack1.push(1)\n",
    "stack1.push(2)\n",
    "stack1.peek()"
   ]
  },
  {
   "cell_type": "markdown",
   "metadata": {},
   "source": [
    "Write a routine to remove duplicate characters from a string\n",
    "  in \"xyzzy\" remove the duplicate \"y\" and \"z\"\n",
    "should produce \"xyz\""
   ]
  },
  {
   "cell_type": "code",
   "execution_count": null,
   "metadata": {},
   "outputs": [],
   "source": []
  },
  {
   "cell_type": "code",
   "execution_count": 15,
   "metadata": {},
   "outputs": [],
   "source": [
    "def remove_duplicate(input):\n",
    "    dic = {}\n",
    "    for i in input:\n",
    "        if i in dic.keys():\n",
    "            dic[i] += 1\n",
    "        else:\n",
    "            dic[i] = 1\n",
    "    \n",
    "    result = ''\n",
    "    for i in dic.keys():\n",
    "        result = result + i\n",
    "        \n",
    "    return result"
   ]
  },
  {
   "cell_type": "code",
   "execution_count": 16,
   "metadata": {},
   "outputs": [
    {
     "data": {
      "text/plain": [
       "'xyz'"
      ]
     },
     "execution_count": 16,
     "metadata": {},
     "output_type": "execute_result"
    }
   ],
   "source": [
    "remove_duplicate('xyzzy')"
   ]
  },
  {
   "cell_type": "code",
   "execution_count": 17,
   "metadata": {},
   "outputs": [
    {
     "data": {
      "text/plain": [
       "'xzy'"
      ]
     },
     "execution_count": 17,
     "metadata": {},
     "output_type": "execute_result"
    }
   ],
   "source": [
    "remove_duplicate('xzzyy')"
   ]
  },
  {
   "cell_type": "markdown",
   "metadata": {},
   "source": [
    "Write a routine to remove duplicate words from a string\n",
    "  in \"the quick brown fox jumps over the lazy dog the quick brown fox jumps over the lazy dog\"\n",
    "  remove the duplicate \"the\", \"quick\", \"brown\", \"fox\", \"jumps\", \"over\", \"lazy\", \"dog\""
   ]
  },
  {
   "cell_type": "code",
   "execution_count": 20,
   "metadata": {},
   "outputs": [],
   "source": [
    "def remove_duplicate2(input):\n",
    "    dic = {}\n",
    "    for i in input.split():\n",
    "        if i in dic.keys():\n",
    "            dic[i] += 1\n",
    "        else:\n",
    "            dic[i] = 1\n",
    "    \n",
    "    result = []\n",
    "    for i in dic.keys():\n",
    "        result.append(i)\n",
    "        \n",
    "    return result"
   ]
  },
  {
   "cell_type": "code",
   "execution_count": 21,
   "metadata": {},
   "outputs": [
    {
     "data": {
      "text/plain": [
       "['the', 'quick', 'brown', 'fox', 'jumps', 'over', 'lazy', 'dog']"
      ]
     },
     "execution_count": 21,
     "metadata": {},
     "output_type": "execute_result"
    }
   ],
   "source": [
    "remove_duplicate2(\"the quick brown fox jumps over the lazy dog the quick brown fox jumps over the lazy dog\")"
   ]
  },
  {
   "cell_type": "markdown",
   "metadata": {},
   "source": [
    "Write a routine to count the frequency of each character in a file.\n",
    "Use these instructions as the content of the file.\n",
    "Put the frequencies in a list sorted from least to greatest"
   ]
  },
  {
   "cell_type": "code",
   "execution_count": 48,
   "metadata": {},
   "outputs": [],
   "source": [
    "import pandas as pd\n",
    "def count_freq(text):\n",
    "    dic = {}\n",
    "    \n",
    "    for i in text:\n",
    "        if i in dic.keys():\n",
    "            dic[i] += 1\n",
    "        else:\n",
    "            dic[i] = 1\n",
    "\n",
    "    df = pd.DataFrame([dic.keys(),dic.values()])\n",
    "    return sorted(dic.items(),key=lambda x: x[1], reverse=True)\n",
    "    \n",
    "\n",
    "    \n"
   ]
  },
  {
   "cell_type": "code",
   "execution_count": 49,
   "metadata": {},
   "outputs": [
    {
     "data": {
      "text/plain": [
       "[(' ', 32),\n",
       " ('e', 23),\n",
       " ('t', 21),\n",
       " ('r', 10),\n",
       " ('i', 10),\n",
       " ('o', 10),\n",
       " ('n', 10),\n",
       " ('s', 10),\n",
       " ('a', 9),\n",
       " ('c', 8),\n",
       " ('h', 7),\n",
       " ('f', 7),\n",
       " ('u', 6),\n",
       " ('l', 4),\n",
       " ('q', 2),\n",
       " ('.', 2),\n",
       " ('W', 1),\n",
       " ('y', 1),\n",
       " ('U', 1),\n",
       " ('P', 1),\n",
       " ('d', 1),\n",
       " ('m', 1),\n",
       " ('g', 1)]"
      ]
     },
     "execution_count": 49,
     "metadata": {},
     "output_type": "execute_result"
    }
   ],
   "source": [
    "count_freq('Write a routine to count the frequency of each character in a file. Use these instructions as the content of the file. Put the frequencies in a list sorted from least to greatest')"
   ]
  },
  {
   "cell_type": "code",
   "execution_count": null,
   "metadata": {},
   "outputs": [],
   "source": []
  }
 ],
 "metadata": {
  "kernelspec": {
   "display_name": "Python 3",
   "language": "python",
   "name": "python3"
  },
  "language_info": {
   "codemirror_mode": {
    "name": "ipython",
    "version": 3
   },
   "file_extension": ".py",
   "mimetype": "text/x-python",
   "name": "python",
   "nbconvert_exporter": "python",
   "pygments_lexer": "ipython3",
   "version": "3.9.12"
  }
 },
 "nbformat": 4,
 "nbformat_minor": 2
}
